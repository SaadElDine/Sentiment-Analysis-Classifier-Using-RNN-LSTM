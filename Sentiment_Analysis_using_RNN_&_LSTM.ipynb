{
  "nbformat": 4,
  "nbformat_minor": 0,
  "metadata": {
    "colab": {
      "provenance": [],
      "gpuType": "T4"
    },
    "kernelspec": {
      "name": "python3",
      "display_name": "Python 3"
    },
    "language_info": {
      "name": "python"
    },
    "accelerator": "GPU"
  },
  "cells": [
    {
      "cell_type": "markdown",
      "source": [
        "# **Import Libraries ⬇**"
      ],
      "metadata": {
        "id": "IiBHTPkccmTV"
      }
    },
    {
      "cell_type": "code",
      "execution_count": 1,
      "metadata": {
        "id": "6Ct_PX0GqKo7"
      },
      "outputs": [],
      "source": [
        "import pandas as pd\n",
        "import numpy as np\n",
        "from sklearn.model_selection import train_test_split\n",
        "from sklearn.preprocessing import LabelEncoder\n",
        "from sklearn.metrics import accuracy_score, classification_report\n",
        "from keras.models import Sequential\n",
        "from keras.layers import Embedding, LSTM, Dense, SimpleRNN, Dropout\n",
        "import tensorflow as tf\n",
        "from tensorflow.keras.preprocessing.text import Tokenizer\n",
        "from keras.preprocessing.sequence import pad_sequences\n",
        "from google.colab import drive\n",
        "import tensorflow as tf\n",
        "import nltk\n",
        "from nltk.corpus import stopwords\n",
        "from nltk.tokenize import word_tokenize\n",
        "from nltk.stem import WordNetLemmatizer, PorterStemmer\n",
        "import string\n",
        "import re\n",
        "from keras.callbacks import EarlyStopping"
      ]
    },
    {
      "cell_type": "code",
      "source": [
        "device_name = tf.test.gpu_device_name()\n",
        "if len(device_name) > 0:\n",
        "    print(\"Found GPU at: {}\".format(device_name))\n",
        "else:\n",
        "    device_name = \"/device:CPU:0\"\n",
        "    print(\"No GPU, using {}.\".format(device_name))"
      ],
      "metadata": {
        "colab": {
          "base_uri": "https://localhost:8080/"
        },
        "id": "v6Z3yMNc0hlK",
        "outputId": "9c015072-d87c-44c9-8c14-2de5415923ce"
      },
      "execution_count": 2,
      "outputs": [
        {
          "output_type": "stream",
          "name": "stdout",
          "text": [
            "Found GPU at: /device:GPU:0\n"
          ]
        }
      ]
    },
    {
      "cell_type": "code",
      "source": [
        "drive.mount('/content/drive')"
      ],
      "metadata": {
        "colab": {
          "base_uri": "https://localhost:8080/"
        },
        "id": "nTAzKlUc0jxi",
        "outputId": "a12190d3-3c1d-406b-c252-33e2d9b14e5c"
      },
      "execution_count": 3,
      "outputs": [
        {
          "output_type": "stream",
          "name": "stdout",
          "text": [
            "Mounted at /content/drive\n"
          ]
        }
      ]
    },
    {
      "cell_type": "markdown",
      "source": [
        "# **Load data**"
      ],
      "metadata": {
        "id": "PrfhWyfscxLN"
      }
    },
    {
      "cell_type": "code",
      "source": [
        "# Load the dataset\n",
        "df = pd.read_csv(\"/content/drive/MyDrive/IMDB Dataset.csv\")\n",
        "print(df.head())"
      ],
      "metadata": {
        "colab": {
          "base_uri": "https://localhost:8080/"
        },
        "id": "Uwa9ys_5IyU3",
        "outputId": "101990f0-a18b-49c6-c33c-5af645a31f10"
      },
      "execution_count": 4,
      "outputs": [
        {
          "output_type": "stream",
          "name": "stdout",
          "text": [
            "                                              review sentiment\n",
            "0  One of the other reviewers has mentioned that ...  positive\n",
            "1  A wonderful little production. <br /><br />The...  positive\n",
            "2  I thought this was a wonderful way to spend ti...  positive\n",
            "3  Basically there's a family where a little boy ...  negative\n",
            "4  Petter Mattei's \"Love in the Time of Money\" is...  positive\n"
          ]
        }
      ]
    },
    {
      "cell_type": "markdown",
      "source": [
        "# **Data Preproccessing**"
      ],
      "metadata": {
        "id": "3JLRQcLSc2e1"
      }
    },
    {
      "cell_type": "code",
      "source": [
        "X = df['review'].astype(str)\n",
        "y = df['sentiment']"
      ],
      "metadata": {
        "id": "9cSwD3f802Ax"
      },
      "execution_count": 5,
      "outputs": []
    },
    {
      "cell_type": "code",
      "source": [
        "print(\"Length of X:\", len(X))\n",
        "print(\"Length of y:\", len(y))"
      ],
      "metadata": {
        "colab": {
          "base_uri": "https://localhost:8080/"
        },
        "id": "Q4vRxNJdI6tR",
        "outputId": "6371367e-a453-42a3-d669-dd0057970896"
      },
      "execution_count": 6,
      "outputs": [
        {
          "output_type": "stream",
          "name": "stdout",
          "text": [
            "Length of X: 50000\n",
            "Length of y: 50000\n"
          ]
        }
      ]
    },
    {
      "cell_type": "code",
      "source": [
        "X"
      ],
      "metadata": {
        "colab": {
          "base_uri": "https://localhost:8080/"
        },
        "id": "NnFpH7TV03og",
        "outputId": "ed4c9e6d-464f-49ca-c68b-692f4314a180"
      },
      "execution_count": 7,
      "outputs": [
        {
          "output_type": "execute_result",
          "data": {
            "text/plain": [
              "0        One of the other reviewers has mentioned that ...\n",
              "1        A wonderful little production. <br /><br />The...\n",
              "2        I thought this was a wonderful way to spend ti...\n",
              "3        Basically there's a family where a little boy ...\n",
              "4        Petter Mattei's \"Love in the Time of Money\" is...\n",
              "                               ...                        \n",
              "49995    I thought this movie did a down right good job...\n",
              "49996    Bad plot, bad dialogue, bad acting, idiotic di...\n",
              "49997    I am a Catholic taught in parochial elementary...\n",
              "49998    I'm going to have to disagree with the previou...\n",
              "49999    No one expects the Star Trek movies to be high...\n",
              "Name: review, Length: 50000, dtype: object"
            ]
          },
          "metadata": {},
          "execution_count": 7
        }
      ]
    },
    {
      "cell_type": "code",
      "source": [
        "y"
      ],
      "metadata": {
        "colab": {
          "base_uri": "https://localhost:8080/"
        },
        "id": "1F7oZxV005gs",
        "outputId": "5271c69b-95f1-4e72-dfdb-3cf563eba79c"
      },
      "execution_count": 8,
      "outputs": [
        {
          "output_type": "execute_result",
          "data": {
            "text/plain": [
              "0        positive\n",
              "1        positive\n",
              "2        positive\n",
              "3        negative\n",
              "4        positive\n",
              "           ...   \n",
              "49995    positive\n",
              "49996    negative\n",
              "49997    negative\n",
              "49998    negative\n",
              "49999    negative\n",
              "Name: sentiment, Length: 50000, dtype: object"
            ]
          },
          "metadata": {},
          "execution_count": 8
        }
      ]
    },
    {
      "cell_type": "code",
      "source": [
        "nltk.download('stopwords')\n",
        "nltk.download('punkt')\n",
        "stop_words = set(stopwords.words('english'))\n",
        "# Load NLTK WordNet for lemmatization\n",
        "nltk.download('wordnet')\n",
        "# Create instances for lemmatization and stemming\n",
        "lemmatizer = WordNetLemmatizer()\n",
        "stemmer = PorterStemmer()"
      ],
      "metadata": {
        "colab": {
          "base_uri": "https://localhost:8080/"
        },
        "id": "kI7ukdnj0-d6",
        "outputId": "9c3fef77-1dc8-469a-cc29-58a876352d09"
      },
      "execution_count": 9,
      "outputs": [
        {
          "output_type": "stream",
          "name": "stderr",
          "text": [
            "[nltk_data] Downloading package stopwords to /root/nltk_data...\n",
            "[nltk_data]   Unzipping corpora/stopwords.zip.\n",
            "[nltk_data] Downloading package punkt to /root/nltk_data...\n",
            "[nltk_data]   Unzipping tokenizers/punkt.zip.\n",
            "[nltk_data] Downloading package wordnet to /root/nltk_data...\n"
          ]
        }
      ]
    },
    {
      "cell_type": "code",
      "source": [
        "def preprocess_text(text):\n",
        "    # Remove HTML tags\n",
        "    text = re.sub(r'<.*?>', '', text)\n",
        "    # Remove punctuation\n",
        "    text = text.translate(str.maketrans('', '', string.punctuation))\n",
        "    # Remove non-word characters and special characters\n",
        "    text = re.sub(r'[^a-zA-Z\\s]', '', text)\n",
        "    # Lowercasing\n",
        "    text = text.lower()\n",
        "    # Tokenize the data\n",
        "    tokens = word_tokenize(text)\n",
        "    # Remove stop words\n",
        "    tokens = [token for token in tokens if token not in stop_words]\n",
        "    # Apply lemmatization and stemming\n",
        "    tokens = [lemmatizer.lemmatize(token) for token in tokens]\n",
        "    tokens = [stemmer.stem(token) for token in tokens]\n",
        "    # Join tokens back into a string\n",
        "    preprocessed_text = ' '.join(tokens)\n",
        "    return preprocessed_text"
      ],
      "metadata": {
        "id": "fxfLB1Uz1BPa"
      },
      "execution_count": 10,
      "outputs": []
    },
    {
      "cell_type": "code",
      "source": [
        "Xp = X.apply(preprocess_text)"
      ],
      "metadata": {
        "id": "yQ6oFrlQ1D4c"
      },
      "execution_count": 11,
      "outputs": []
    },
    {
      "cell_type": "code",
      "source": [
        "Xp"
      ],
      "metadata": {
        "colab": {
          "base_uri": "https://localhost:8080/"
        },
        "id": "hiXXIzuJ1Mtp",
        "outputId": "35bf0986-eb3d-4b74-d0da-34ef1dfdb65c"
      },
      "execution_count": 12,
      "outputs": [
        {
          "output_type": "execute_result",
          "data": {
            "text/plain": [
              "0        one review mention watch oz episod youll hook ...\n",
              "1        wonder littl product film techniqu unassum old...\n",
              "2        thought wonder way spend time hot summer weeke...\n",
              "3        basic there famili littl boy jake think there ...\n",
              "4        petter mattei love time money visual stun film...\n",
              "                               ...                        \n",
              "49995    thought movi right good job wasnt creativ orig...\n",
              "49996    bad plot bad dialogu bad act idiot direct anno...\n",
              "49997    cathol taught parochi elementari school nun ta...\n",
              "49998    im go disagre previou comment side maltin one ...\n",
              "49999    one expect star trek movi high art fan expect ...\n",
              "Name: review, Length: 50000, dtype: object"
            ]
          },
          "metadata": {},
          "execution_count": 12
        }
      ]
    },
    {
      "cell_type": "code",
      "source": [
        "print(\"Length of X:\", len(X))\n",
        "print(\"Length of y:\", len(y))"
      ],
      "metadata": {
        "colab": {
          "base_uri": "https://localhost:8080/"
        },
        "id": "th8nQtKqJu4O",
        "outputId": "29ff1e92-9bed-4d8a-a081-c8de62a77b36"
      },
      "execution_count": 13,
      "outputs": [
        {
          "output_type": "stream",
          "name": "stdout",
          "text": [
            "Length of X: 50000\n",
            "Length of y: 50000\n"
          ]
        }
      ]
    },
    {
      "cell_type": "code",
      "source": [
        "# Tokenize the text data\n",
        "tokenizer = Tokenizer()\n",
        "tokenizer.fit_on_texts(Xp)\n",
        "Xp_sequences = tokenizer.texts_to_sequences(Xp)\n",
        "\n",
        "# Pad sequences to ensure uniform length\n",
        "max_sequence_length = max([len(seq) for seq in Xp_sequences])\n",
        "Xp_pad = pad_sequences(Xp_sequences, maxlen=max_sequence_length)"
      ],
      "metadata": {
        "id": "mXZltGUY1X7t"
      },
      "execution_count": 14,
      "outputs": []
    },
    {
      "cell_type": "code",
      "source": [
        "Xp_pad"
      ],
      "metadata": {
        "colab": {
          "base_uri": "https://localhost:8080/"
        },
        "id": "jyIJEOswJ5S8",
        "outputId": "d64795fc-072d-4645-e54e-342cbb7b1272"
      },
      "execution_count": 15,
      "outputs": [
        {
          "output_type": "execute_result",
          "data": {
            "text/plain": [
              "array([[    0,     0,     0, ...,   448,  3350,   387],\n",
              "       [    0,     0,     0, ...,   278,    20,   153],\n",
              "       [    0,     0,     0, ...,    16,    10,   128],\n",
              "       ...,\n",
              "       [    0,     0,     0, ...,  3267, 16177,  1063],\n",
              "       [    0,     0,     0, ...,  1799,  1437,   321],\n",
              "       [    0,     0,     0, ...,   911,   611,     1]], dtype=int32)"
            ]
          },
          "metadata": {},
          "execution_count": 15
        }
      ]
    },
    {
      "cell_type": "code",
      "source": [
        "# Encode the target variable\n",
        "label_encoder = LabelEncoder()\n",
        "y_encoded = label_encoder.fit_transform(y)"
      ],
      "metadata": {
        "id": "zy6_qII51ak0"
      },
      "execution_count": 16,
      "outputs": []
    },
    {
      "cell_type": "code",
      "source": [
        "y_encoded"
      ],
      "metadata": {
        "colab": {
          "base_uri": "https://localhost:8080/"
        },
        "id": "omhShT0TJ_Ni",
        "outputId": "3db587c7-aca5-49df-e0ab-892e670b350e"
      },
      "execution_count": 17,
      "outputs": [
        {
          "output_type": "execute_result",
          "data": {
            "text/plain": [
              "array([1, 1, 1, ..., 0, 0, 0])"
            ]
          },
          "metadata": {},
          "execution_count": 17
        }
      ]
    },
    {
      "cell_type": "code",
      "source": [
        "print(\"Length of X:\", len(Xp_pad))\n",
        "print(\"Length of y:\", len(y_encoded))"
      ],
      "metadata": {
        "colab": {
          "base_uri": "https://localhost:8080/"
        },
        "id": "6baJNansKV74",
        "outputId": "ff540b89-1a2d-42ee-e072-18180977e5e7"
      },
      "execution_count": 18,
      "outputs": [
        {
          "output_type": "stream",
          "name": "stdout",
          "text": [
            "Length of X: 50000\n",
            "Length of y: 50000\n"
          ]
        }
      ]
    },
    {
      "cell_type": "markdown",
      "source": [
        "# **Split Data**"
      ],
      "metadata": {
        "id": "4H6rRVAZdAGS"
      }
    },
    {
      "cell_type": "code",
      "source": [
        "# Split the data into training and testing sets\n",
        "X_train, X_test, y_train, y_test = train_test_split(Xp_pad, y_encoded, test_size=0.2, random_state=42)"
      ],
      "metadata": {
        "id": "4EDGqAzZ1eQp"
      },
      "execution_count": 19,
      "outputs": []
    },
    {
      "cell_type": "markdown",
      "source": [
        "# **Modeling**"
      ],
      "metadata": {
        "id": "RA2Qb1aXdCY9"
      }
    },
    {
      "cell_type": "code",
      "source": [
        "def build_rnn_model(input_dim, output_dim, input_length):\n",
        "    model = Sequential()\n",
        "    model.add(Embedding(input_dim=input_dim, output_dim=output_dim))\n",
        "    model.add(SimpleRNN(128, dropout=0.7))\n",
        "    model.add(Dropout(0.09))\n",
        "    model.add(Dense(1, activation='sigmoid'))\n",
        "    model.compile(optimizer='adam', loss='binary_crossentropy', metrics=['accuracy'])\n",
        "    return model\n",
        "\n",
        "rnn_model = build_rnn_model(len(tokenizer.word_index)+1, 100, 200)\n",
        "rnn_model.summary()"
      ],
      "metadata": {
        "colab": {
          "base_uri": "https://localhost:8080/"
        },
        "id": "MLKp2rfb7Nxf",
        "outputId": "42e27dd8-a3a0-45e1-cdf9-43bd9abf8239"
      },
      "execution_count": 20,
      "outputs": [
        {
          "output_type": "stream",
          "name": "stdout",
          "text": [
            "Model: \"sequential\"\n",
            "_________________________________________________________________\n",
            " Layer (type)                Output Shape              Param #   \n",
            "=================================================================\n",
            " embedding (Embedding)       (None, None, 100)         17442500  \n",
            "                                                                 \n",
            " simple_rnn (SimpleRNN)      (None, 128)               29312     \n",
            "                                                                 \n",
            " dropout (Dropout)           (None, 128)               0         \n",
            "                                                                 \n",
            " dense (Dense)               (None, 1)                 129       \n",
            "                                                                 \n",
            "=================================================================\n",
            "Total params: 17471941 (66.65 MB)\n",
            "Trainable params: 17471941 (66.65 MB)\n",
            "Non-trainable params: 0 (0.00 Byte)\n",
            "_________________________________________________________________\n"
          ]
        }
      ]
    },
    {
      "cell_type": "code",
      "source": [
        "def build_lstm_model(input_dim, output_dim, input_length):\n",
        "    model = Sequential()\n",
        "    model.add(Embedding(input_dim=input_dim, output_dim=output_dim))\n",
        "    model.add(LSTM(128, dropout=0.2, recurrent_dropout=0))\n",
        "    model.add(Dense(64, activation='relu'))\n",
        "    model.add(Dense(1, activation='sigmoid'))\n",
        "    model.compile(optimizer='adam', loss='binary_crossentropy', metrics=['accuracy'])\n",
        "    return model\n",
        "\n",
        "lstm_model = build_lstm_model(len(tokenizer.word_index)+1, 100, 200)\n",
        "lstm_model.summary()"
      ],
      "metadata": {
        "colab": {
          "base_uri": "https://localhost:8080/"
        },
        "id": "G0dx09EP2X4X",
        "outputId": "65b6ab78-df58-49c4-d761-1bdba2fbde5d"
      },
      "execution_count": 21,
      "outputs": [
        {
          "output_type": "stream",
          "name": "stdout",
          "text": [
            "Model: \"sequential_1\"\n",
            "_________________________________________________________________\n",
            " Layer (type)                Output Shape              Param #   \n",
            "=================================================================\n",
            " embedding_1 (Embedding)     (None, None, 100)         17442500  \n",
            "                                                                 \n",
            " lstm (LSTM)                 (None, 128)               117248    \n",
            "                                                                 \n",
            " dense_1 (Dense)             (None, 64)                8256      \n",
            "                                                                 \n",
            " dense_2 (Dense)             (None, 1)                 65        \n",
            "                                                                 \n",
            "=================================================================\n",
            "Total params: 17568069 (67.02 MB)\n",
            "Trainable params: 17568069 (67.02 MB)\n",
            "Non-trainable params: 0 (0.00 Byte)\n",
            "_________________________________________________________________\n"
          ]
        }
      ]
    },
    {
      "cell_type": "code",
      "source": [
        "# Setup early stopping\n",
        "early_stopping = EarlyStopping(\n",
        "    monitor='val_loss',  # Monitors the model's validation loss\n",
        "    min_delta=0.001,     # The minimum amount of change to qualify as an improvement\n",
        "    patience=3,          # Number of epochs with no improvement after which training will be stopped\n",
        "    verbose=1,           # Logs when training stops\n",
        "    restore_best_weights=True  # Restores model weights from the epoch with the best value of the monitored quantity\n",
        ")\n",
        "\n",
        "# Train the RNN model with early stopping\n",
        "rnn_history = rnn_model.fit(\n",
        "    X_train,\n",
        "    y_train,\n",
        "    epochs=10,\n",
        "    validation_data=(X_test, y_test),\n",
        "    batch_size=64,\n",
        "    callbacks=[early_stopping]  # Include the early stopping callback here\n",
        ")"
      ],
      "metadata": {
        "id": "sI2UhK6_UCXM",
        "colab": {
          "base_uri": "https://localhost:8080/"
        },
        "outputId": "98fc41e1-dda7-4768-8390-af95faee7d69"
      },
      "execution_count": 22,
      "outputs": [
        {
          "output_type": "stream",
          "name": "stdout",
          "text": [
            "Epoch 1/10\n",
            "625/625 [==============================] - 876s 1s/step - loss: 0.6041 - accuracy: 0.6439 - val_loss: 0.6424 - val_accuracy: 0.6537\n",
            "Epoch 2/10\n",
            "625/625 [==============================] - 825s 1s/step - loss: 0.6252 - accuracy: 0.6400 - val_loss: 0.6427 - val_accuracy: 0.5998\n",
            "Epoch 3/10\n",
            "625/625 [==============================] - 822s 1s/step - loss: 0.6012 - accuracy: 0.6729 - val_loss: 0.5932 - val_accuracy: 0.6673\n",
            "Epoch 4/10\n",
            "625/625 [==============================] - 793s 1s/step - loss: 0.5418 - accuracy: 0.7224 - val_loss: 0.6570 - val_accuracy: 0.6068\n",
            "Epoch 5/10\n",
            "625/625 [==============================] - 786s 1s/step - loss: 0.5910 - accuracy: 0.6813 - val_loss: 0.5966 - val_accuracy: 0.6797\n",
            "Epoch 6/10\n",
            "625/625 [==============================] - 796s 1s/step - loss: 0.4990 - accuracy: 0.7657 - val_loss: 0.5648 - val_accuracy: 0.7181\n",
            "Epoch 7/10\n",
            "625/625 [==============================] - 778s 1s/step - loss: 0.4040 - accuracy: 0.8250 - val_loss: 0.5094 - val_accuracy: 0.7550\n",
            "Epoch 8/10\n",
            "625/625 [==============================] - 788s 1s/step - loss: 0.5756 - accuracy: 0.6890 - val_loss: 0.5503 - val_accuracy: 0.7266\n",
            "Epoch 9/10\n",
            "625/625 [==============================] - 801s 1s/step - loss: 0.4039 - accuracy: 0.8281 - val_loss: 0.4810 - val_accuracy: 0.7931\n",
            "Epoch 10/10\n",
            "625/625 [==============================] - 781s 1s/step - loss: 0.3801 - accuracy: 0.8407 - val_loss: 0.5064 - val_accuracy: 0.7618\n"
          ]
        }
      ]
    },
    {
      "cell_type": "code",
      "source": [
        "from keras.models import load_model\n",
        "\n",
        "# Load the LSTM model\n",
        "lstm_model = load_model('/content/drive/MyDrive/lstm_model.h5')\n",
        "# LSTM Training\n",
        "#lstm_history = lstm_model.fit(X_train, y_train, epochs=10, validation_data=(X_test, y_test), batch_size=64)"
      ],
      "metadata": {
        "id": "m3A8FzTd8WmH"
      },
      "execution_count": 23,
      "outputs": []
    },
    {
      "cell_type": "code",
      "source": [
        "# Evaluate RNN model\n",
        "loss_rnn, accuracy_rnn = rnn_model.evaluate(X_test, y_test)\n",
        "print(f'RNN Model - Loss: {loss_rnn}, Accuracy: {accuracy_rnn}')\n",
        "\n",
        "# Evalute LSTM model\n",
        "loss_lstm, accuracy_lstm = lstm_model.evaluate(X_test, y_test)\n",
        "print(f'LSTM Model - Loss: {loss_lstm}, Accuracy: {accuracy_lstm}')"
      ],
      "metadata": {
        "id": "O3iaqQsd9Qfn",
        "colab": {
          "base_uri": "https://localhost:8080/"
        },
        "outputId": "86111e86-5098-4d50-e74e-658a0d0bf475"
      },
      "execution_count": 24,
      "outputs": [
        {
          "output_type": "stream",
          "name": "stdout",
          "text": [
            "313/313 [==============================] - 32s 103ms/step - loss: 0.5064 - accuracy: 0.7618\n",
            "RNN Model - Loss: 0.506449282169342, Accuracy: 0.7617999911308289\n",
            "313/313 [==============================] - 7s 19ms/step - loss: 0.6931 - accuracy: 0.8715\n",
            "LSTM Model - Loss: 0.6931278109550476, Accuracy: 0.8715000152587891\n"
          ]
        }
      ]
    },
    {
      "cell_type": "code",
      "source": [
        "import matplotlib.pyplot as plt\n",
        "\n",
        "def plot_history(histories, key='accuracy'):\n",
        "    plt.figure(figsize=(10, 6))\n",
        "    for name, history in histories:\n",
        "        val = plt.plot(history.epoch, history.history['val_'+key],\n",
        "                       '--', label=name.title()+' Val')\n",
        "        plt.plot(history.epoch, history.history[key], color=val[0].get_color(),\n",
        "                 label=name.title()+' Train')\n",
        "\n",
        "    plt.xlabel('Epochs')\n",
        "    plt.ylabel(key.replace('_', ' ').title())\n",
        "    plt.legend()\n",
        "    plt.xlim([0, max(history.epoch)])\n",
        "\n",
        "# Plot the accuracy\n",
        "plot_history([('LSTM', lstm_history), ('RNN', rnn_history)])\n",
        "\n",
        "# Plot the loss\n",
        "plot_history([('LSTM', lstm_history), ('RNN', rnn_history)], key='loss')"
      ],
      "metadata": {
        "colab": {
          "base_uri": "https://localhost:8080/",
          "height": 1000
        },
        "id": "-ZqzTopL9v3P",
        "outputId": "e7e184f5-5e55-4462-e750-da95c9d453bf"
      },
      "execution_count": null,
      "outputs": [
        {
          "output_type": "display_data",
          "data": {
            "text/plain": [
              "<Figure size 1000x600 with 1 Axes>"
            ],
            "image/png": "[encoded data removed]"
          },
          "metadata": {}
        },
        {
          "output_type": "display_data",
          "data": {
            "text/plain": [
              "<Figure size 1000x600 with 1 Axes>"
            ],
            "image/png": "[encoded data removed]"
          },
          "metadata": {}
        }
      ]
    },
    {
      "cell_type": "code",
      "source": [
        "# Save the LSTM model\n",
        "lstm_model.save('/content/drive/MyDrive/lstm_model.h5')  # Saves the model to Google Drive.\n",
        "\n",
        "# Save the RNN model\n",
        "rnn_model.save('/content/drive/MyDrive/rnn_model.h5')  # Saves the model to Google Drive."
      ],
      "metadata": {
        "colab": {
          "base_uri": "https://localhost:8080/"
        },
        "id": "AShhkGeuf0N_",
        "outputId": "2e7fc0d7-c16e-42f6-86d2-7a592ae0b9ae"
      },
      "execution_count": null,
      "outputs": [
        {
          "output_type": "stream",
          "name": "stderr",
          "text": [
            "/usr/local/lib/python3.10/dist-packages/keras/src/engine/training.py:3103: UserWarning: You are saving your model as an HDF5 file via `model.save()`. This file format is considered legacy. We recommend using instead the native Keras format, e.g. `model.save('my_model.keras')`.\n",
            "  saving_api.save_model(\n"
          ]
        }
      ]
    }
  ]
}